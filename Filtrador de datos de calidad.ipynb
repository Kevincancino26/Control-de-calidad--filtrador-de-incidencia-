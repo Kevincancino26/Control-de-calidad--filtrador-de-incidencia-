{
 "cells": [
  {
   "cell_type": "markdown",
   "id": "b6ecd189",
   "metadata": {},
   "source": [
    "# Analisis de Incidencias Area de Calidad"
   ]
  },
  {
   "cell_type": "markdown",
   "id": "6486bf9b",
   "metadata": {},
   "source": [
    "## Bliblioteca empleada"
   ]
  },
  {
   "cell_type": "code",
   "execution_count": null,
   "id": "0246750c",
   "metadata": {},
   "outputs": [],
   "source": [
    "import pandas as pd"
   ]
  },
  {
   "cell_type": "markdown",
   "id": "a2fc86bb",
   "metadata": {},
   "source": [
    "### Filtrador"
   ]
  },
  {
   "cell_type": "code",
   "execution_count": null,
   "id": "3faada1c",
   "metadata": {},
   "outputs": [
    {
     "name": "stdout",
     "output_type": "stream",
     "text": [
      "Hojas disponibles en el archivo:\n",
      "['2025', '25 AL 30 NOV ', '2025 abril ', ' 2025 Mayo ', '2025 Junio ', 'Julio 2025']\n"
     ]
    }
   ],
   "source": [
    "#Conecciona a la localizacion del archivo de registro de incidentes en exel, ademas de visualizacion de las hojas disponibeles \n",
    "url = \"D:/CALIDAD.xlsx\"\n",
    "excel_file = pd.ExcelFile(url)\n",
    "#Se vizualisa las hojas disponibles dado que el registro es por mes \n",
    "print(\"Hojas disponibles en el archivo:\")\n",
    "print(excel_file.sheet_names)"
   ]
  },
  {
   "cell_type": "code",
   "execution_count": null,
   "id": "ac368d32",
   "metadata": {},
   "outputs": [],
   "source": [
    "# Cargar los datos, ajustando el encabezado si es necesario (puede ser header=0, 1 o 2 según el archivo, cambiando el nombre de la hoja para el mes al analizar)\n",
    "df_ = pd.read_excel(url, sheet_name= ' 2025 Mayo ', header=1)"
   ]
  },
  {
   "cell_type": "code",
   "execution_count": null,
   "id": "3f6f3035",
   "metadata": {},
   "outputs": [
    {
     "name": "stdout",
     "output_type": "stream",
     "text": [
      "['FECHA', 'CAUSA A RAIZ DE LA INCIDENCIA (C)', 'CAUSA A RAIZ DE LA INCIDENCIA (CI)', 'ORDEN DE SERVICO', 'VEHICULO ', 'ASESOR', 'TECNICO ', ' lavador', 'Observaciones', 'Unnamed: 9', 'Unnamed: 10', 'Unnamed: 11']\n"
     ]
    }
   ],
   "source": [
    "#Visualizamos las columnas de la hoja de calculo para verificar que esten en orden\n",
    "print(list(df_.columns))"
   ]
  },
  {
   "cell_type": "code",
   "execution_count": null,
   "id": "5d0b88b1",
   "metadata": {},
   "outputs": [
    {
     "data": {
      "text/html": [
       "<div>\n",
       "<style scoped>\n",
       "    .dataframe tbody tr th:only-of-type {\n",
       "        vertical-align: middle;\n",
       "    }\n",
       "\n",
       "    .dataframe tbody tr th {\n",
       "        vertical-align: top;\n",
       "    }\n",
       "\n",
       "    .dataframe thead th {\n",
       "        text-align: right;\n",
       "    }\n",
       "</style>\n",
       "<table border=\"1\" class=\"dataframe\">\n",
       "  <thead>\n",
       "    <tr style=\"text-align: right;\">\n",
       "      <th></th>\n",
       "      <th>FECHA</th>\n",
       "      <th>CAUSA A RAIZ DE LA INCIDENCIA (CI)</th>\n",
       "      <th>ORDEN DE SERVICO</th>\n",
       "      <th>VEHICULO</th>\n",
       "      <th>ASESOR</th>\n",
       "      <th>TECNICO</th>\n",
       "      <th>lavador</th>\n",
       "    </tr>\n",
       "  </thead>\n",
       "  <tbody>\n",
       "    <tr>\n",
       "      <th>0</th>\n",
       "      <td>2025-05-02 00:00:00</td>\n",
       "      <td>SIN OBSERVACION</td>\n",
       "      <td>-N00027558</td>\n",
       "      <td>S10 2024</td>\n",
       "      <td>JESSICA</td>\n",
       "      <td>3._ROGELIO</td>\n",
       "      <td>GUISURI</td>\n",
       "    </tr>\n",
       "    <tr>\n",
       "      <th>1</th>\n",
       "      <td>2025-05-02 00:00:00</td>\n",
       "      <td>SIN POLIZA EN VEHICULO</td>\n",
       "      <td>-N00027560</td>\n",
       "      <td>S10 2024</td>\n",
       "      <td>JESSICA</td>\n",
       "      <td>5._ IVAN</td>\n",
       "      <td>RAUL</td>\n",
       "    </tr>\n",
       "    <tr>\n",
       "      <th>2</th>\n",
       "      <td>2025-05-02 00:00:00</td>\n",
       "      <td>SIN OBSERVACION</td>\n",
       "      <td>-N00027565</td>\n",
       "      <td>S10 2023</td>\n",
       "      <td>GRISSEL</td>\n",
       "      <td>9._JORGE</td>\n",
       "      <td>CHUCHO</td>\n",
       "    </tr>\n",
       "    <tr>\n",
       "      <th>3</th>\n",
       "      <td>2025-05-02 00:00:00</td>\n",
       "      <td>SIN OBSERVACION</td>\n",
       "      <td>-N00077561</td>\n",
       "      <td>GROOVE 2023</td>\n",
       "      <td>GRISSEL</td>\n",
       "      <td>7._VICTOR</td>\n",
       "      <td>GUISURI</td>\n",
       "    </tr>\n",
       "    <tr>\n",
       "      <th>4</th>\n",
       "      <td>2025-05-02 00:00:00</td>\n",
       "      <td>SIN PLASTICO Y TAPETE</td>\n",
       "      <td>MG00015864</td>\n",
       "      <td>GROOVE 2022</td>\n",
       "      <td>ERIKA</td>\n",
       "      <td>10._EMANUEL</td>\n",
       "      <td>GUISURI</td>\n",
       "    </tr>\n",
       "    <tr>\n",
       "      <th>...</th>\n",
       "      <td>...</td>\n",
       "      <td>...</td>\n",
       "      <td>...</td>\n",
       "      <td>...</td>\n",
       "      <td>...</td>\n",
       "      <td>...</td>\n",
       "      <td>...</td>\n",
       "    </tr>\n",
       "    <tr>\n",
       "      <th>770</th>\n",
       "      <td>NaN</td>\n",
       "      <td>NaN</td>\n",
       "      <td>NaN</td>\n",
       "      <td>NaN</td>\n",
       "      <td>NaN</td>\n",
       "      <td>NaN</td>\n",
       "      <td>NaN</td>\n",
       "    </tr>\n",
       "    <tr>\n",
       "      <th>771</th>\n",
       "      <td>NaN</td>\n",
       "      <td>NaN</td>\n",
       "      <td>NaN</td>\n",
       "      <td>NaN</td>\n",
       "      <td>NaN</td>\n",
       "      <td>NaN</td>\n",
       "      <td>NaN</td>\n",
       "    </tr>\n",
       "    <tr>\n",
       "      <th>772</th>\n",
       "      <td>NaN</td>\n",
       "      <td>NaN</td>\n",
       "      <td>NaN</td>\n",
       "      <td>NaN</td>\n",
       "      <td>NaN</td>\n",
       "      <td>NaN</td>\n",
       "      <td>NaN</td>\n",
       "    </tr>\n",
       "    <tr>\n",
       "      <th>773</th>\n",
       "      <td>NaN</td>\n",
       "      <td>NaN</td>\n",
       "      <td>NaN</td>\n",
       "      <td>NaN</td>\n",
       "      <td>NaN</td>\n",
       "      <td>NaN</td>\n",
       "      <td>NaN</td>\n",
       "    </tr>\n",
       "    <tr>\n",
       "      <th>774</th>\n",
       "      <td>VIERNES 04</td>\n",
       "      <td>NaN</td>\n",
       "      <td>NaN</td>\n",
       "      <td>NaN</td>\n",
       "      <td>NaN</td>\n",
       "      <td>NaN</td>\n",
       "      <td>NaN</td>\n",
       "    </tr>\n",
       "  </tbody>\n",
       "</table>\n",
       "<p>775 rows × 7 columns</p>\n",
       "</div>"
      ],
      "text/plain": [
       "                   FECHA CAUSA A RAIZ DE LA INCIDENCIA (CI) ORDEN DE SERVICO  \\\n",
       "0    2025-05-02 00:00:00                    SIN OBSERVACION       -N00027558   \n",
       "1    2025-05-02 00:00:00            SIN POLIZA EN VEHICULO        -N00027560   \n",
       "2    2025-05-02 00:00:00                    SIN OBSERVACION       -N00027565   \n",
       "3    2025-05-02 00:00:00                    SIN OBSERVACION       -N00077561   \n",
       "4    2025-05-02 00:00:00              SIN PLASTICO Y TAPETE       MG00015864   \n",
       "..                   ...                                ...              ...   \n",
       "770                  NaN                                NaN              NaN   \n",
       "771                  NaN                                NaN              NaN   \n",
       "772                  NaN                                NaN              NaN   \n",
       "773                  NaN                                NaN              NaN   \n",
       "774           VIERNES 04                                NaN              NaN   \n",
       "\n",
       "       VEHICULO    ASESOR     TECNICO   lavador  \n",
       "0       S10 2024  JESSICA   3._ROGELIO  GUISURI  \n",
       "1       S10 2024  JESSICA     5._ IVAN     RAUL  \n",
       "2       S10 2023  GRISSEL     9._JORGE   CHUCHO  \n",
       "3    GROOVE 2023  GRISSEL    7._VICTOR  GUISURI  \n",
       "4    GROOVE 2022    ERIKA  10._EMANUEL  GUISURI  \n",
       "..           ...      ...          ...      ...  \n",
       "770          NaN      NaN          NaN      NaN  \n",
       "771          NaN      NaN          NaN      NaN  \n",
       "772          NaN      NaN          NaN      NaN  \n",
       "773          NaN      NaN          NaN      NaN  \n",
       "774          NaN      NaN          NaN      NaN  \n",
       "\n",
       "[775 rows x 7 columns]"
      ]
     },
     "execution_count": 15,
     "metadata": {},
     "output_type": "execute_result"
    }
   ],
   "source": [
    "#Creamos un data frame con solo las columnas necesarias para el analisis\n",
    "dg=pd.DataFrame(df_[['FECHA','CAUSA A RAIZ DE LA INCIDENCIA (CI)','ORDEN DE SERVICO','VEHICULO ', 'ASESOR', 'TECNICO ', ' lavador']])\n",
    "dg"
   ]
  },
  {
   "cell_type": "code",
   "execution_count": null,
   "id": "e649427b",
   "metadata": {},
   "outputs": [
    {
     "data": {
      "text/plain": [
       "FECHA                                 229\n",
       "CAUSA A RAIZ DE LA INCIDENCIA (CI)    241\n",
       "ORDEN DE SERVICO                      301\n",
       "VEHICULO                              302\n",
       "ASESOR                                301\n",
       "TECNICO                               317\n",
       " lavador                              311\n",
       "dtype: int64"
      ]
     },
     "execution_count": 16,
     "metadata": {},
     "output_type": "execute_result"
    }
   ],
   "source": [
    "#Comprobamos la cantidad de datos nulos en la hoja\n",
    "dg.isna().sum()\n"
   ]
  },
  {
   "cell_type": "code",
   "execution_count": null,
   "id": "26b62fbe",
   "metadata": {},
   "outputs": [
    {
     "data": {
      "text/plain": [
       "FECHA                                 0\n",
       "CAUSA A RAIZ DE LA INCIDENCIA (CI)    0\n",
       "ORDEN DE SERVICO                      0\n",
       "VEHICULO                              0\n",
       "ASESOR                                0\n",
       "TECNICO                               0\n",
       " lavador                              0\n",
       "dtype: int64"
      ]
     },
     "execution_count": 17,
     "metadata": {},
     "output_type": "execute_result"
    }
   ],
   "source": [
    "#Limpiamos los datos y checamos que no haya mas nulos\n",
    "dg=dg.dropna()\n",
    "dg.isna().sum()"
   ]
  },
  {
   "cell_type": "code",
   "execution_count": null,
   "id": "d8736326",
   "metadata": {},
   "outputs": [
    {
     "name": "stdout",
     "output_type": "stream",
     "text": [
      "SIN OBSERVACION: 207\n",
      "SIN TAPETE: 67\n",
      "SIN PLASTICO Y TAPETE: 62\n",
      "SIN TAPETE Y PLASTICO VOLANTE : 28\n",
      "SIN POLIZA EN VEHICULO : 22\n",
      "NO USO CONO (HOJA CON NUMERO): 12\n",
      "LLANTAS A DIFERENTE PRECION: 9\n",
      "RIN (SUCIO): 7\n",
      "FALTA DE SELLO EN POLIZA AL MOMENTO DE INSPECCION: 6\n",
      "MOTOR SUCIO: 4\n",
      "SIN FRENO DE MANO : 3\n",
      "SIN PLASTICO VOLANTE: 3\n",
      "ACEITE NO RESETEADO NIVEL%: 3\n",
      "CASO S10 REVISION DE ACEITE: 2\n",
      "CARROCERIA SUCIA : 2\n",
      "VELOCIDAD PUESTA: 1\n",
      "CARROCERIA SUCIA: 1\n",
      "SIN CALCOMANIA: 1\n",
      "SIN PLASTICOS : 1\n",
      "CONO DENTRO DEL VEHICULO (NIVEL DE PISO): 1\n",
      "HOJA DE ORDEN NO EN VEHICULO : 1\n",
      "SE PRESENTO CODIGO 59,60: 1\n",
      "SE PRESENTARON CODIGOS 61: 1\n",
      "NO SE COLOCO EL FILTRO POLEN : 1\n",
      "OLOR A HUMEDAD : 1\n",
      "SIN OBSERVACIONES: 1\n",
      "ERROR EN GESTION Y ASIGNACION DE SERVICIO: 1\n",
      "SIN MULTIPUNTOS AL MOMENTO DE INSPECCION : 1\n"
     ]
    }
   ],
   "source": [
    "#Realizamos la previsualizacion de las incidencias del mes\n",
    "conteo = dg['CAUSA A RAIZ DE LA INCIDENCIA (CI)'].value_counts()\n",
    "\n",
    "for incidencia, cantidad in conteo.items():\n",
    "    print(f\"{incidencia}: {cantidad}\")"
   ]
  },
  {
   "cell_type": "code",
   "execution_count": null,
   "id": "453f51bd",
   "metadata": {},
   "outputs": [],
   "source": [
    "#Generamos un archivo exel para guardar en la base de datos conectada a Pawer BI\n",
    "dg.to_excel('datosfiltradosdelmes.xlsx', index=False)"
   ]
  }
 ],
 "metadata": {
  "kernelspec": {
   "display_name": "base",
   "language": "python",
   "name": "python3"
  },
  "language_info": {
   "codemirror_mode": {
    "name": "ipython",
    "version": 3
   },
   "file_extension": ".py",
   "mimetype": "text/x-python",
   "name": "python",
   "nbconvert_exporter": "python",
   "pygments_lexer": "ipython3",
   "version": "3.13.5"
  }
 },
 "nbformat": 4,
 "nbformat_minor": 5
}
